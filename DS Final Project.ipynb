{
 "cells": [
  {
   "cell_type": "markdown",
   "metadata": {},
   "source": [
    "# PetFinder.my Adoption Prediction"
   ]
  },
  {
   "cell_type": "markdown",
   "metadata": {},
   "source": [
    "COMP-3125 Data Science  \n",
    "Professor Ergezer   \n",
    "Mengting Wang, Yen Le  \n",
    "12/15/2020"
   ]
  },
  {
   "cell_type": "markdown",
   "metadata": {},
   "source": [
    "## Table of Contents\n",
    "- [Data Exploration](#Data-Exploration)\n",
    "    - [Read Data](#Read-Data)\n",
    "    - [Data Fields](#Data-Fields)\n",
    "    - [Data Visualization ](#Data-Visualization)\n",
    "- [Machine Learning Models](#Machine-Learning-Models)\n",
    "    - [Feature Engineering](#Feature-Engineering)\n",
    "- [Conclusion](#Conclusion)"
   ]
  },
  {
   "cell_type": "markdown",
   "metadata": {},
   "source": [
    "## Data Exploration"
   ]
  },
  {
   "cell_type": "code",
   "execution_count": null,
   "metadata": {},
   "outputs": [],
   "source": [
    "# required packages\n",
    "import pandas as pd\n",
    "import numpy as np\n",
    "import seaborn as sns\n",
    "import matplotlib.pyplot as plt\n",
    "import sklearn.metrics as metrics\n",
    "from sklearn.model_selection import train_test_split \n",
    "from sklearn.neighbors import KNeighborsClassifier\n",
    "from sklearn.metrics import accuracy_score\n",
    "from sklearn.metrics import confusion_matrix\n",
    "from sklearn.svm import SVC\n",
    "from sklearn.naive_bayes import GaussianNB \n",
    "from sklearn.ensemble import RandomForestRegressor\n",
    "from sklearn.ensemble import RandomForestClassifier"
   ]
  },
  {
   "cell_type": "markdown",
   "metadata": {},
   "source": [
    "### Read Data"
   ]
  },
  {
   "cell_type": "code",
   "execution_count": null,
   "metadata": {},
   "outputs": [],
   "source": [
    "# read data\n",
    "train = pd.read_csv (r'C:\\Users\\wangm1\\Desktop\\DS Final Project\\train\\train.csv')\n",
    "test = pd.read_csv (r'C:\\Users\\wangm1\\Desktop\\DS Final Project\\test\\test.csv')\n",
    "breed = pd.read_csv (r'C:\\Users\\wangm1\\Desktop\\DS Final Project\\breed_labels.csv')\n",
    "color = pd.read_csv (r'C:\\Users\\wangm1\\Desktop\\DS Final Project\\color_labels.csv')\n",
    "state = pd.read_csv (r'C:\\Users\\wangm1\\Desktop\\DS Final Project\\state_labels.csv')\n",
    "\n",
    "# breed\n",
    "# color\n",
    "# state\n",
    "train"
   ]
  },
  {
   "cell_type": "code",
   "execution_count": null,
   "metadata": {
    "scrolled": true
   },
   "outputs": [],
   "source": [
    "# get a summary of data\n",
    "train.describe()"
   ]
  },
  {
   "cell_type": "markdown",
   "metadata": {},
   "source": [
    "### Data Fields\n",
    "Although the dataset is clean and easy to understand, however, some of the column headers are not intuitive.  \n",
    "Here's what they mean:\n",
    "\n",
    "1. PetID - Unique hash ID of pet profile\n",
    "2. AdoptionSpeed - Categorical speed of adoption. Lower is faster. This is the value to predict. \n",
    "3. Type - Type of animal (1 = Dog, 2 = Cat)\n",
    "4. Name - Name of pet (Empty if not named)\n",
    "5. Age - Age of pet when listed, in months\n",
    "6. Breed1 - Primary breed of pet (Refer to BreedLabels dictionary)\n",
    "7. Breed2 - Secondary breed of pet, if pet is of mixed breed (Refer to BreedLabels dictionary)\n",
    "8. Gender - Gender of pet (1 = Male, 2 = Female, 3 = Mixed, if profile represents group of pets)\n",
    "9. Color1 - Color 1 of pet (Refer to ColorLabels dictionary)\n",
    "10. Color2 - Color 2 of pet (Refer to ColorLabels dictionary)\n",
    "11. Color3 - Color 3 of pet (Refer to ColorLabels dictionary)\n",
    "12. MaturitySize - Size at maturity (1 = Small, 2 = Medium, 3 = Large, 4 = Extra Large, 0 = Not Specified)\n",
    "13. FurLength - Fur length (1 = Short, 2 = Medium, 3 = Long, 0 = Not Specified)\n",
    "14. Vaccinated - Pet has been vaccinated (1 = Yes, 2 = No, 3 = Not Sure)\n",
    "15. Dewormed - Pet has been dewormed (1 = Yes, 2 = No, 3 = Not Sure)\n",
    "16. Sterilized - Pet has been spayed / neutered (1 = Yes, 2 = No, 3 = Not Sure)\n",
    "17. Health - Health Condition (1 = Healthy, 2 = Minor Injury, 3 = Serious Injury, 0 = Not Specified)\n",
    "18. Quantity - Number of pets represented in profile\n",
    "19. Fee - Adoption fee (0 = Free)\n",
    "20. State - State location in Malaysia (Refer to StateLabels dictionary)\n",
    "21. RescuerID - Unique hash ID of rescuer\n",
    "22. VideoAmt - Total uploaded videos for this pet\n",
    "23. PhotoAmt - Total uploaded photos for this pet\n",
    "24. Description - Profile write-up for this pet. The primary language used is English, with some in Malay or Chinese.\n",
    "\n",
    "#### Adoption Speed\n",
    "The value is determined by how quickly, if at all, a pet is adopted. The values are determined in the following way:\n",
    "\n",
    "0 - Pet was adopted on the same day as it was listed.  \n",
    "1 - Pet was adopted between 1 and 7 days (1st week) after being listed.  \n",
    "2 - Pet was adopted between 8 and 30 days (1st month) after being listed.  \n",
    "3 - Pet was adopted between 31 and 90 days (2nd & 3rd month) after being listed.  \n",
    "4 - No adoption after 100 days of being listed. (There are no pets in this dataset that waited between 90 and 100 days)."
   ]
  },
  {
   "cell_type": "markdown",
   "metadata": {},
   "source": [
    "### Data Visualization\n"
   ]
  },
  {
   "cell_type": "code",
   "execution_count": null,
   "metadata": {},
   "outputs": [],
   "source": [
    "plt.title('Species', fontsize='xx-large')\n",
    "train['Type'].value_counts().rename({1:'Dogs',2:'Cats'}).plot(kind='barh')\n",
    "plt.xlabel('Count')"
   ]
  },
  {
   "cell_type": "code",
   "execution_count": null,
   "metadata": {},
   "outputs": [],
   "source": [
    "plt.title('Adoption Speed', fontsize='xx-large')\n",
    "train['AdoptionSpeed'].value_counts().rename(\n",
    "    {0:'Same Day',\n",
    "     1:'1-7 Days',\n",
    "     2:'8-30 Days',\n",
    "     3:'31-90 Days',\n",
    "     4:'No adoption after 100 Days'}).plot(kind='barh')\n",
    "plt.xlabel('Count')"
   ]
  },
  {
   "cell_type": "markdown",
   "metadata": {},
   "source": [
    "## Machine Learning Models"
   ]
  },
  {
   "cell_type": "markdown",
   "metadata": {},
   "source": [
    "### Feature Engineering"
   ]
  },
  {
   "cell_type": "markdown",
   "metadata": {},
   "source": [
    "There are some features are not as relevant for predicting the adoption speed, such as a pet's name, resourceID, petID and description. In addition, most of the values in Breed2 and Color3 are 0 ( unknown), which means they do not provide any significant information in the prediction of the adoption speed as well.   \n",
    "Thus, we can remove these features."
   ]
  },
  {
   "cell_type": "code",
   "execution_count": null,
   "metadata": {},
   "outputs": [],
   "source": [
    "drop = ['Name', 'Breed2','Color3', 'RescuerID', 'PetID', 'Description']\n",
    "train = train.drop(drop, axis = 1)\n",
    "# test  = test.drop(drop, axis = 1)\n",
    "\n",
    "X = train.drop(['AdoptionSpeed'], axis = 1)\n",
    "y = train.AdoptionSpeed\n",
    "\n",
    "#Train-Test Split\n",
    "Xtrain, Xtest, ytrain, ytest = train_test_split(X, y, test_size=0.25, random_state=0)\n",
    "\n",
    "# confirm split\n",
    "print('Training Features Shape:', Xtrain.shape)\n",
    "print('Training Labels Shape:', ytrain.shape)\n",
    "print('Testing Features Shape:', Xtest.shape)\n",
    "print('Testing Labels Shape:', ytest.shape)"
   ]
  },
  {
   "cell_type": "markdown",
   "metadata": {},
   "source": [
    "###  Approach one - KNeighborsClassifier "
   ]
  },
  {
   "cell_type": "code",
   "execution_count": null,
   "metadata": {},
   "outputs": [],
   "source": [
    "model = KNeighborsClassifier(n_neighbors=1)\n",
    "model.fit(Xtrain, ytrain)\n",
    "\n",
    "# Test it on test data\n",
    "y_model = model.predict(Xtest)\n",
    "\n",
    "# accuracy score\n",
    "accuracy_score(ytest, y_model)"
   ]
  },
  {
   "cell_type": "code",
   "execution_count": null,
   "metadata": {
    "scrolled": true
   },
   "outputs": [],
   "source": [
    "# Adoption speed distribution\n",
    "ytest.value_counts().plot.bar()"
   ]
  },
  {
   "cell_type": "code",
   "execution_count": null,
   "metadata": {},
   "outputs": [],
   "source": [
    "mat = confusion_matrix(ytest, y_model)\n",
    "\n",
    "sns.heatmap(mat, square=True, annot=True, cbar=False, cmap='YlGnBu') #flag, YlGnBu, jet\n",
    "plt.xlabel('predicted value')\n",
    "plt.ylabel('true value');"
   ]
  },
  {
   "cell_type": "markdown",
   "metadata": {},
   "source": [
    "###  Approach two - Naive Bayes"
   ]
  },
  {
   "cell_type": "code",
   "execution_count": null,
   "metadata": {},
   "outputs": [],
   "source": [
    "model = GaussianNB()                       # instantiate model\n",
    "model.fit(Xtrain, ytrain)                  # fit model to data\n",
    "y_model = model.predict(Xtest)             # predict on new data/ apply model to the test data\n",
    "\n",
    "#3. Test it on test data.\n",
    "accuracy_score(ytest, y_model)"
   ]
  },
  {
   "cell_type": "code",
   "execution_count": null,
   "metadata": {},
   "outputs": [],
   "source": [
    "from sklearn.metrics import cohen_kappa_score\n",
    "cohen_kappa_score(ytest, y_model, weights = \"quadratic\")"
   ]
  },
  {
   "cell_type": "markdown",
   "metadata": {},
   "source": [
    "###  Apporach Three - Logistic Regression"
   ]
  },
  {
   "cell_type": "code",
   "execution_count": null,
   "metadata": {},
   "outputs": [],
   "source": [
    "from sklearn.linear_model import LogisticRegression\n",
    "model = LogisticRegression(solver='lbfgs', multi_class='auto',max_iter = 15000)\n",
    "model.fit(Xtrain,ytrain)\n",
    "\n",
    "# Make predictions on test data\n",
    "y_model = model.predict(Xtest)\n",
    "\n",
    "# accuracy score\n",
    "accuracy_logistic = accuracy_score(ytest, y_model)\n",
    "print(accuracy_logistic)\n"
   ]
  },
  {
   "cell_type": "markdown",
   "metadata": {},
   "source": [
    "###  Approach Four - Random Forest Classifier"
   ]
  },
  {
   "cell_type": "code",
   "execution_count": null,
   "metadata": {},
   "outputs": [],
   "source": [
    "model = RandomForestClassifier(n_estimators=150)\n",
    "model.fit(Xtrain,ytrain)\n",
    "\n",
    "# Make predictions on test data\n",
    "y_model = model.predict(Xtest)\n",
    "\n",
    "# accuracy score\n",
    "accuracy_score(ytest, y_model)"
   ]
  },
  {
   "cell_type": "markdown",
   "metadata": {},
   "source": [
    "###  Approach Five - Random Forest Regressor"
   ]
  },
  {
   "cell_type": "code",
   "execution_count": null,
   "metadata": {
    "scrolled": true
   },
   "outputs": [],
   "source": [
    "model = RandomForestRegressor(n_jobs=-1)\n",
    "\n",
    "# Try different numbers of n_estimators\n",
    "estimators = np.arange(10, 200, 10)\n",
    "scores = []\n",
    "for n in estimators:\n",
    "    model.set_params(n_estimators=n)\n",
    "    model.fit(Xtrain, ytrain)\n",
    "    scores.append(model.score(Xtest, ytest))\n",
    "plt.title(\"Effect of n_estimators\")\n",
    "plt.xlabel(\"n_estimator\")\n",
    "plt.ylabel(\"score\")\n",
    "plt.plot(estimators, scores)"
   ]
  },
  {
   "cell_type": "markdown",
   "metadata": {},
   "source": [
    "According to the graph, we decided to chooe 150 as the estimator"
   ]
  },
  {
   "cell_type": "code",
   "execution_count": null,
   "metadata": {},
   "outputs": [],
   "source": [
    "model = RandomForestRegressor(n_estimators=150)\n",
    "model.fit(Xtrain,ytrain)\n",
    "\n",
    "# Make predictions on test data\n",
    "y_model = model.predict(Xtest)\n",
    "\n",
    "# accuracy score\n",
    "print('Mean Absolute Error (MAE):', metrics.mean_absolute_error(ytest, y_model))\n",
    "print('Mean Squared Error (MSE):', metrics.mean_squared_error(ytest, y_model))\n",
    "print('Root Mean Squared Error (RMSE):', np.sqrt(metrics.mean_squared_error(ytest, y_model)))\n"
   ]
  },
  {
   "cell_type": "markdown",
   "metadata": {},
   "source": [
    "## Conclusion"
   ]
  },
  {
   "cell_type": "code",
   "execution_count": null,
   "metadata": {},
   "outputs": [],
   "source": []
  }
 ],
 "metadata": {
  "kernelspec": {
   "display_name": "Python 3",
   "language": "python",
   "name": "python3"
  },
  "language_info": {
   "codemirror_mode": {
    "name": "ipython",
    "version": 3
   },
   "file_extension": ".py",
   "mimetype": "text/x-python",
   "name": "python",
   "nbconvert_exporter": "python",
   "pygments_lexer": "ipython3",
   "version": "3.7.4"
  }
 },
 "nbformat": 4,
 "nbformat_minor": 2
}
